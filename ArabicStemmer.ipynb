{
 "cells": [
  {
   "cell_type": "code",
   "execution_count": 2,
   "id": "f24cdfe1",
   "metadata": {},
   "outputs": [
    {
     "name": "stdout",
     "output_type": "stream",
     "text": [
      "Requirement already satisfied: pyarabic in c:\\users\\yasmine nasrat\\appdata\\local\\programs\\python\\python310\\lib\\site-packages (0.6.15)\n",
      "Requirement already satisfied: six>=1.14.0 in c:\\users\\yasmine nasrat\\appdata\\local\\programs\\python\\python310\\lib\\site-packages (from pyarabic) (1.16.0)\n"
     ]
    },
    {
     "name": "stderr",
     "output_type": "stream",
     "text": [
      "WARNING: Ignoring invalid distribution -umpy (c:\\users\\yasmine nasrat\\appdata\\local\\programs\\python\\python310\\lib\\site-packages)\n",
      "WARNING: Ignoring invalid distribution -umpy (c:\\users\\yasmine nasrat\\appdata\\local\\programs\\python\\python310\\lib\\site-packages)\n",
      "WARNING: Ignoring invalid distribution -umpy (c:\\users\\yasmine nasrat\\appdata\\local\\programs\\python\\python310\\lib\\site-packages)\n",
      "WARNING: Ignoring invalid distribution -umpy (c:\\users\\yasmine nasrat\\appdata\\local\\programs\\python\\python310\\lib\\site-packages)\n",
      "WARNING: Ignoring invalid distribution -umpy (c:\\users\\yasmine nasrat\\appdata\\local\\programs\\python\\python310\\lib\\site-packages)\n",
      "WARNING: Ignoring invalid distribution -umpy (c:\\users\\yasmine nasrat\\appdata\\local\\programs\\python\\python310\\lib\\site-packages)\n",
      "\n",
      "[notice] A new release of pip is available: 23.0.1 -> 23.1.2\n",
      "[notice] To update, run: python.exe -m pip install --upgrade pip\n",
      "[nltk_data] Downloading package stopwords to C:\\Users\\Yasmine\n",
      "[nltk_data]     Nasrat\\AppData\\Roaming\\nltk_data...\n",
      "[nltk_data]   Package stopwords is already up-to-date!\n"
     ]
    }
   ],
   "source": [
    "!pip install pyarabic\n",
    "import pyarabic.araby as araby\n",
    "import re\n",
    "import nltk\n",
    "from nltk.corpus import stopwords\n",
    "nltk.download('stopwords')\n",
    "def stem_arabic(word):\n",
    "    if word == 'الله':\n",
    "      return word\n",
    "    # Normalization\n",
    "    word = re.sub('^[إأآ]', 'ا', word)  # Replace the first letter with \"ا\"\n",
    "    word = re.sub(r\"(\\w)ّ \", r\"\\1\\1\", word)\n",
    "    word = re.sub(r\"(\\w)ُ\", r\"\\1\", word)\n",
    "    word = re.sub(r\"(\\w)َ\", r\"\\1\", word)\n",
    "    word = re.sub(r\"(\\w)ً\", r\"\\1\", word)\n",
    "    word = re.sub(r\"(\\w)ِ\", r\"\\1\", word)\n",
    "    word = re.sub(r\"(\\w)ٌ\", r\"\\1\", word)\n",
    "    word = re.sub(r\"(\\w)ٍ\", r\"\\1\", word)\n",
    "    word = re.sub(r\"(\\w)ْ\", r\"\\1\", word)\n",
    "    #word = word.replace(\"ٌ\", '').replace(\"َ\", \"\").replace(\"ِ\", \"\").replace(\"ً\", \"\").replace(\"ٍ\", \"\").replace(\"ْ\", \"\").replace(\"ٌ\", \"\")\n",
    "    \n",
    "    temp = re.sub('^(?:بال|كال|ال|وال|فال)?(?!$)', '', word)\n",
    "    word = temp if len(temp) >= 3 else word\n",
    "    temp = re.sub('^([كوفلبت])(\\\\1)', '\\\\1', word)\n",
    "    word = temp if len(temp) >= 3 else word\n",
    "\n",
    "    if word.startswith(\"و\"):\n",
    "      word = removeAllSuffixes(word)\n",
    "      if(checkPrefixWFL(word)):\n",
    "        temp = word[1:]\n",
    "        word = temp if len(temp) >= 3 else word\n",
    "\n",
    "    elif word.startswith(\"ف\"):\n",
    "      word = removeAllSuffixes(word)\n",
    "      if(checkPrefixWFL(word)):\n",
    "        temp = word[1:]\n",
    "        word = temp if len(temp) >= 3 else word\n",
    "      \n",
    "    if(word.startswith(\"ب\") or word.startswith(\"ك\")):\n",
    "      word = removeAllSuffixes(word)\n",
    "      if(checkPrefixBK(word)):\n",
    "        temp = word[1:]\n",
    "        word = temp if len(temp) >= 3 else word\n",
    "\n",
    "    elif(word.startswith(\"ل\")):\n",
    "      word = removeAllSuffixes(word)\n",
    "      if(checkPrefixWFL(word)):\n",
    "        temp = word[1:]\n",
    "        word = temp if len(temp) >= 3 else word\n",
    "\n",
    "\n",
    "    temp = re.sub('^(لن|مست|نست|سي|سن|ست|سا|تنن|است|ات)', '', word)\n",
    "    word = temp if len(temp) >= 3 else word\n",
    "    word = removeAllSuffixes(word)\n",
    "\n",
    "    if word.startswith(\"ت\") or word.startswith(\"ي\"):\n",
    "      if len(word) > 3:\n",
    "        if(checkPrefixTY(word)):\n",
    "          temp = word[1:]\n",
    "          word = temp if len(temp) >= 3 else word\n",
    "    return word"
   ]
  },
  {
   "cell_type": "code",
   "execution_count": 4,
   "id": "5a27740f",
   "metadata": {},
   "outputs": [],
   "source": [
    "def stem_arabic_sentence(sentence):\n",
    "\n",
    "    words = araby.tokenize(sentence)\n",
    "    filtered_words = remove_stopwords(words)\n",
    "\n",
    "    stemmed_words = [stem_arabic(word) for word in filtered_words]\n",
    "    words = araby.tokenize(sentence)\n",
    "\n",
    "    stemmed_sentence = ' '.join(stemmed_words)\n",
    "\n",
    "    return stemmed_sentence"
   ]
  },
  {
   "cell_type": "code",
   "execution_count": 5,
   "id": "e32a27d7",
   "metadata": {},
   "outputs": [],
   "source": [
    "def remove_stopwords(words):\n",
    "    stop_words = set(stopwords.words('arabic'))\n",
    "    filtered_words = [word for word in words if word not in stop_words]\n",
    "    return filtered_words"
   ]
  },
  {
   "cell_type": "code",
   "execution_count": 6,
   "id": "717d5bc4",
   "metadata": {},
   "outputs": [],
   "source": [
    "def removeAllSuffixes(word):\n",
    "    prev_word = \"\"\n",
    "    while word != prev_word:\n",
    "        prev_word = word\n",
    "        if len(word)<=3:\n",
    "          break\n",
    "        temp = re.sub('(ات|ون|ين|ت|ان|يا|تم|كم|هما|كن|نا|ها|هم|ن|ة|ك|ي|اء|وها|ا|ه|يه|وا|ء|ية|تموها|تن|اتي|تي|ني|هنن)$', '', word)\n",
    "        word = temp if len(temp) >= 3 else word\n",
    "    return word"
   ]
  },
  {
   "cell_type": "code",
   "execution_count": 7,
   "id": "5e79a232",
   "metadata": {},
   "outputs": [],
   "source": [
    "def checkPrefixWFL(word):\n",
    "  if  len(word) ==4 and (word[1] == \"ا\" or word[3] == \"ن\"):\n",
    "    return False\n",
    "  elif len(word) == 5 and word[1] == word[2] and word[3] == \"ا\" :\n",
    "    return False\n",
    "  return True"
   ]
  },
  {
   "cell_type": "code",
   "execution_count": 8,
   "id": "f0ac8ac5",
   "metadata": {},
   "outputs": [],
   "source": [
    "def checkPrefixBK(word):\n",
    "  if len(word) == 4 and (word[1] == \"ا\" or word[3] == \"ن\" or word[2] == \"ا\" or word[2] == \"ي\") :\n",
    "    return False\n",
    "  elif len(word) == 5 and word[1] == word[2] and word[3] == \"ا\":\n",
    "    return False\n",
    "  return True"
   ]
  },
  {
   "cell_type": "code",
   "execution_count": 9,
   "id": "aae20d59",
   "metadata": {},
   "outputs": [],
   "source": [
    "def checkPrefixTY(word):\n",
    "  if len(word) == 4 and word[1] == \"ا\" :\n",
    "    return False\n",
    "  elif len(word) == 5 and word[1] == word[2] and word[3] == \"ا\":\n",
    "    return False\n",
    "  return True"
   ]
  },
  {
   "cell_type": "code",
   "execution_count": 10,
   "id": "e84df213",
   "metadata": {},
   "outputs": [
    {
     "data": {
      "text/plain": [
       "'اجمل عبار لغة عرب'"
      ]
     },
     "execution_count": 10,
     "metadata": {},
     "output_type": "execute_result"
    }
   ],
   "source": [
    "stem_arabic_sentence(\"أجمل العبارات في اللغة العربية\")"
   ]
  },
  {
   "cell_type": "code",
   "execution_count": 12,
   "id": "06d9bf7d",
   "metadata": {},
   "outputs": [
    {
     "data": {
      "text/plain": [
       "'انلزم'"
      ]
     },
     "execution_count": 12,
     "metadata": {},
     "output_type": "execute_result"
    }
   ],
   "source": [
    "stem_arabic_sentence(\"أنلزمكموها\")\n"
   ]
  }
 ],
 "metadata": {
  "kernelspec": {
   "display_name": "Python 3 (ipykernel)",
   "language": "python",
   "name": "python3"
  },
  "language_info": {
   "codemirror_mode": {
    "name": "ipython",
    "version": 3
   },
   "file_extension": ".py",
   "mimetype": "text/x-python",
   "name": "python",
   "nbconvert_exporter": "python",
   "pygments_lexer": "ipython3",
   "version": "3.10.1"
  }
 },
 "nbformat": 4,
 "nbformat_minor": 5
}
